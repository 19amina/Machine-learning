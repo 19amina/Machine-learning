{
 "cells": [
  {
   "cell_type": "markdown",
   "id": "9157d4d9",
   "metadata": {},
   "source": [
    "  "
   ]
  },
  {
   "cell_type": "markdown",
   "id": "268a9f6e",
   "metadata": {},
   "source": [
    "  "
   ]
  },
  {
   "cell_type": "markdown",
   "id": "17c5720e",
   "metadata": {},
   "source": [
    "                                       Machine Learning                                   prof: Delalić Sead       \n",
    "                                                                                          date: 02.06.2022.\n",
    "\n",
    "\n",
    "# Project: Find the formula \n",
    "\n",
    "## \n",
    "\n",
    "\n",
    "\n",
    "\n"
   ]
  },
  {
   "cell_type": "code",
   "execution_count": 1,
   "id": "32cb6beb",
   "metadata": {},
   "outputs": [],
   "source": [
    "import pandas as pd\n",
    "import numpy as np\n",
    "import seaborn as sns\n",
    "from sklearn.impute import SimpleImputer\n",
    "from sklearn.compose import ColumnTransformer\n",
    "from sklearn.preprocessing import OneHotEncoder\n",
    "from sklearn.model_selection import train_test_split\n",
    "from sklearn.preprocessing import StandardScaler\n",
    "from sklearn.linear_model import LinearRegression\n",
    "from sklearn.linear_model import Ridge\n",
    "from sklearn.model_selection import GridSearchCV\n",
    "from sklearn.linear_model import Lasso\n",
    "from sklearn.preprocessing import PolynomialFeatures\n",
    "from sklearn.metrics import mean_squared_error\n",
    "import matplotlib.pyplot as plt"
   ]
  },
  {
   "cell_type": "markdown",
   "id": "8f1d8501",
   "metadata": {},
   "source": [
    "# Ukratko o bibliotekama"
   ]
  },
  {
   "cell_type": "markdown",
   "id": "ad39529e",
   "metadata": {},
   "source": [
    " \n",
    "    \n",
    "    Pandas je softverska biblioteka napisana za programski jezik Python za manipulaciju i analizu podataka. Konkretno, nudi strukture podataka i operacije za manipulaciju numeričkim tabelama i vremenskim serijama.\n",
    "    Naziv je izveden od izraza \"panel data\", pojam u ekonomiji za skupove podataka koji uključuju zapažanja u više vremenskih perioda za iste pojedince.\n",
    "\n",
    "    Numpy je biblioteka za programski jezik Python, koja dodaje podršku za velike, višedimenzionalne nizove i matrice, zajedno sa velikom kolekcijom matematičkih funkcija visokog nivoa za rad na ovim nizovima.\n",
    "    \n",
    "    Seaborn je Python biblioteka za vizualizaciju podataka zasnovana na matplotlib-u. Pruža interfejs visokog nivoa za crtanje atraktivnih i informativnih statističkih grafika.\n",
    "    \n",
    "    Scikit-learn (poznat kao sklearn) je besplatna softverska biblioteka za mašinsko učenje za programski jezik Python. Posjeduje različite algoritme za klasifikaciju, regresiju i grupisanje uključujući mašine sa vektorima podrške, povećanje gradijenta, k-srednje vrijednosti i DBSCAN, i dizajniran je da interoperiše sa Python numeričkim i naučnim bibliotekama NumPy i SciPy.\n",
    "    \n",
    "    Matplotlib je sveobuhvatna biblioteka za kreiranje statičkih, animiranih i interaktivnih vizualizacija u Pythonu."
   ]
  },
  {
   "cell_type": "markdown",
   "id": "b1622b50",
   "metadata": {},
   "source": [
    "# Analiza podataka"
   ]
  },
  {
   "cell_type": "code",
   "execution_count": 2,
   "id": "94c819f7",
   "metadata": {},
   "outputs": [
    {
     "data": {
      "text/html": [
       "<div>\n",
       "<style scoped>\n",
       "    .dataframe tbody tr th:only-of-type {\n",
       "        vertical-align: middle;\n",
       "    }\n",
       "\n",
       "    .dataframe tbody tr th {\n",
       "        vertical-align: top;\n",
       "    }\n",
       "\n",
       "    .dataframe thead th {\n",
       "        text-align: right;\n",
       "    }\n",
       "</style>\n",
       "<table border=\"1\" class=\"dataframe\">\n",
       "  <thead>\n",
       "    <tr style=\"text-align: right;\">\n",
       "      <th></th>\n",
       "      <th>slovo</th>\n",
       "      <th>a</th>\n",
       "      <th>b</th>\n",
       "      <th>c</th>\n",
       "      <th>d</th>\n",
       "      <th>e</th>\n",
       "      <th>f</th>\n",
       "    </tr>\n",
       "  </thead>\n",
       "  <tbody>\n",
       "    <tr>\n",
       "      <th>0</th>\n",
       "      <td>C</td>\n",
       "      <td>5.86</td>\n",
       "      <td>11.59</td>\n",
       "      <td>75.54</td>\n",
       "      <td>50.87</td>\n",
       "      <td>11.72</td>\n",
       "      <td>5.578</td>\n",
       "    </tr>\n",
       "    <tr>\n",
       "      <th>1</th>\n",
       "      <td>B</td>\n",
       "      <td>5.54</td>\n",
       "      <td>56.06</td>\n",
       "      <td>36.59</td>\n",
       "      <td>76.01</td>\n",
       "      <td>11.08</td>\n",
       "      <td>32.450</td>\n",
       "    </tr>\n",
       "    <tr>\n",
       "      <th>2</th>\n",
       "      <td>C</td>\n",
       "      <td>70.21</td>\n",
       "      <td>69.10</td>\n",
       "      <td>47.9</td>\n",
       "      <td>79.92</td>\n",
       "      <td>140.42</td>\n",
       "      <td>7.589</td>\n",
       "    </tr>\n",
       "    <tr>\n",
       "      <th>3</th>\n",
       "      <td>C</td>\n",
       "      <td>87.02</td>\n",
       "      <td>56.71</td>\n",
       "      <td>54.21</td>\n",
       "      <td>6.22</td>\n",
       "      <td>174.04</td>\n",
       "      <td>6.210</td>\n",
       "    </tr>\n",
       "    <tr>\n",
       "      <th>4</th>\n",
       "      <td>B</td>\n",
       "      <td>25.19</td>\n",
       "      <td>41.91</td>\n",
       "      <td>31.14</td>\n",
       "      <td>100.81</td>\n",
       "      <td>50.38</td>\n",
       "      <td>8.810</td>\n",
       "    </tr>\n",
       "    <tr>\n",
       "      <th>...</th>\n",
       "      <td>...</td>\n",
       "      <td>...</td>\n",
       "      <td>...</td>\n",
       "      <td>...</td>\n",
       "      <td>...</td>\n",
       "      <td>...</td>\n",
       "      <td>...</td>\n",
       "    </tr>\n",
       "    <tr>\n",
       "      <th>9995</th>\n",
       "      <td>A</td>\n",
       "      <td>5.86</td>\n",
       "      <td>85.91</td>\n",
       "      <td>63.15</td>\n",
       "      <td>22.69</td>\n",
       "      <td>11.72</td>\n",
       "      <td>5.860</td>\n",
       "    </tr>\n",
       "    <tr>\n",
       "      <th>9996</th>\n",
       "      <td>B</td>\n",
       "      <td>80.16</td>\n",
       "      <td>98.09</td>\n",
       "      <td>69.2</td>\n",
       "      <td>60.94</td>\n",
       "      <td>160.32</td>\n",
       "      <td>8.322</td>\n",
       "    </tr>\n",
       "    <tr>\n",
       "      <th>9997</th>\n",
       "      <td>A</td>\n",
       "      <td>32.30</td>\n",
       "      <td>54.55</td>\n",
       "      <td>40.0</td>\n",
       "      <td>213213116.34</td>\n",
       "      <td>64.6</td>\n",
       "      <td>32.300</td>\n",
       "    </tr>\n",
       "    <tr>\n",
       "      <th>9998</th>\n",
       "      <td>A</td>\n",
       "      <td>39.20</td>\n",
       "      <td>28.94</td>\n",
       "      <td>22.67</td>\n",
       "      <td>94.28</td>\n",
       "      <td>78.4</td>\n",
       "      <td>39.200</td>\n",
       "    </tr>\n",
       "    <tr>\n",
       "      <th>9999</th>\n",
       "      <td>A</td>\n",
       "      <td>11.80</td>\n",
       "      <td>38.51</td>\n",
       "      <td>2.15</td>\n",
       "      <td>82.47</td>\n",
       "      <td>23.6</td>\n",
       "      <td>11.800</td>\n",
       "    </tr>\n",
       "  </tbody>\n",
       "</table>\n",
       "<p>10000 rows × 7 columns</p>\n",
       "</div>"
      ],
      "text/plain": [
       "     slovo      a      b       c              d        e       f\n",
       "0        C   5.86  11.59   75.54          50.87    11.72   5.578\n",
       "1        B   5.54  56.06   36.59          76.01    11.08  32.450\n",
       "2        C  70.21  69.10    47.9          79.92   140.42   7.589\n",
       "3        C  87.02  56.71   54.21           6.22   174.04   6.210\n",
       "4        B  25.19  41.91   31.14         100.81    50.38   8.810\n",
       "...    ...    ...    ...     ...            ...      ...     ...\n",
       "9995     A   5.86  85.91   63.15          22.69    11.72   5.860\n",
       "9996     B  80.16  98.09    69.2          60.94   160.32   8.322\n",
       "9997     A  32.30  54.55    40.0   213213116.34     64.6  32.300\n",
       "9998     A  39.20  28.94   22.67          94.28     78.4  39.200\n",
       "9999     A  11.80  38.51    2.15          82.47     23.6  11.800\n",
       "\n",
       "[10000 rows x 7 columns]"
      ]
     },
     "execution_count": 2,
     "metadata": {},
     "output_type": "execute_result"
    }
   ],
   "source": [
    "podaci = pd.read_csv('data.csv')\n",
    "podaci.columns = podaci.columns.str.strip()\n",
    "podaci"
   ]
  },
  {
   "cell_type": "markdown",
   "id": "b15f5bee",
   "metadata": {
    "scrolled": true
   },
   "source": [
    "Učitavanje podataka formata .csv ('Comma Separated Values') u objekat 'podaci' pomoću biblioteke pandas kao 'pd' i funkcije 'read_csv' čime objekat 'podaci' postaje DataFrame. DataFrame je 2-dimenzionalna označena struktura podataka sa kolonama potencijalno različitih tipova.\n",
    "Zatim uklanjanje praznih mjesta ' ' u nazivima kolona za lakši rad. Te ispis objekta 'podaci' čime dobijamo lijep vizuelni prikaz. Vidimo da postoje 8 kolona pri čemu:\n",
    "\n",
    "   - prva kolona predstavlja lokacije redova u dataframe-u 'podaci'\n",
    "   - druga kolona 'slovo' je kolona čiji su podaci tipa 'string' tj. slova 'A', 'B', 'C' i na jednom mjestu, preciznije lokaciji 9960, slovo 'F'. \n",
    "   - ostale kolone ('a', 'b', 'c', 'd', 'e' i 'f') su kolone čiji su podaci uglavnom 'float' prirode.\n",
    "    \n",
    "Vidimo da imamo 10000 redova sa 7 kolona što čini 70000 podataka."
   ]
  },
  {
   "cell_type": "code",
   "execution_count": 3,
   "id": "75f36359",
   "metadata": {},
   "outputs": [],
   "source": [
    "podaci = podaci.drop(['e'], axis = 1)"
   ]
  },
  {
   "cell_type": "markdown",
   "id": "1987968e",
   "metadata": {},
   "source": [
    "Primjećuje se da je kolona 'e' jednaka dupliranoj koloni 'a', te zbog toga mozemo isključiti kolonu 'e' iz dalje analize."
   ]
  },
  {
   "cell_type": "code",
   "execution_count": 4,
   "id": "e53669b3",
   "metadata": {},
   "outputs": [
    {
     "name": "stdout",
     "output_type": "stream",
     "text": [
      "<class 'pandas.core.frame.DataFrame'>\n",
      "RangeIndex: 10000 entries, 0 to 9999\n",
      "Data columns (total 6 columns):\n",
      " #   Column  Non-Null Count  Dtype  \n",
      "---  ------  --------------  -----  \n",
      " 0   slovo   9996 non-null   object \n",
      " 1   a       10000 non-null  float64\n",
      " 2   b       10000 non-null  float64\n",
      " 3   c       10000 non-null  object \n",
      " 4   d       10000 non-null  object \n",
      " 5   f       9997 non-null   float64\n",
      "dtypes: float64(3), object(3)\n",
      "memory usage: 2.0 MB\n"
     ]
    }
   ],
   "source": [
    "podaci.info(memory_usage = 'deep')"
   ]
  },
  {
   "cell_type": "markdown",
   "id": "12842c9d",
   "metadata": {},
   "source": [
    "Funkcija info() se koristi za ispis sažetka DataFrame-a u ovo slučaju 'podaci'. Ova metoda ispisuje informacije o DataFrameu uključujući tipove dtype indeksa i dtype-ove kolona, vrijednosti koje nisu nule i korištenje memorije.\n",
    "Primijetimo da kolone 'c' i 'd' imaju podatke tipa 'object', dok nama trebaju biti tipa 'float'. U narednoj liniji koda pandas funkcijom 'to_numeric' podaci kolona 'c' i 'd' konvertovati u tip 'float64'."
   ]
  },
  {
   "cell_type": "code",
   "execution_count": 5,
   "id": "f00f34ba",
   "metadata": {
    "scrolled": false
   },
   "outputs": [
    {
     "data": {
      "text/plain": [
       "slovo     object\n",
       "a        float64\n",
       "b        float64\n",
       "c        float64\n",
       "d        float64\n",
       "f        float64\n",
       "dtype: object"
      ]
     },
     "execution_count": 5,
     "metadata": {},
     "output_type": "execute_result"
    }
   ],
   "source": [
    "podaci.c = pd.to_numeric(podaci.c, errors = 'coerce')\n",
    "podaci.d = pd.to_numeric(podaci.d, errors = 'coerce')\n",
    "\n",
    "podaci.dtypes"
   ]
  },
  {
   "cell_type": "markdown",
   "id": "fd32c7b4",
   "metadata": {},
   "source": [
    "Uočimo da se pojavljuju relativno veliki podaci, kao na primjer u koloni 'd' lokacija '9997' vidimo broj sa devet cifara. To moramo riješiti jer nam takvi podaci (outliers) ugrožavaju ostale podatke u analizi te će doći do nerealnog zaključka. Outliers/Izuzetci su tačke podataka koje leže izvan ukupnog obrasca u distribuciji.\n",
    "Koristiću IQR metod i boxplot za detekciju i uklanjanje outlier-a.\n",
    "\n",
    "Jedna uobičajena tehnika za otkrivanje outliera je korištenje IQR (interkvartilni raspon - interquartile range). Q1 je prvi kvartil, Q3 je treći kvartil, a kvartil dijeli uređeni skup podataka u 4 grupe jednake veličine. Drugi kvartil je medijana.\n",
    "\n",
    "Metoda interkvartilnog raspona definiše vanjske vrijednosti kao vrijednosti veće od Q3 + 1,5 * IQR ili vrijednosti manje od Q1 – 1,5 * IQR."
   ]
  },
  {
   "cell_type": "code",
   "execution_count": 6,
   "id": "eb06c9f4",
   "metadata": {},
   "outputs": [
    {
     "data": {
      "text/plain": [
       "<AxesSubplot:xlabel='d'>"
      ]
     },
     "execution_count": 6,
     "metadata": {},
     "output_type": "execute_result"
    },
    {
     "data": {
      "image/png": "[encoded data removed]",
      "text/plain": [
       "<Figure size 432x288 with 1 Axes>"
      ]
     },
     "metadata": {
      "needs_background": "light"
     },
     "output_type": "display_data"
    }
   ],
   "source": [
    "sns.boxplot(x = podaci['d'])"
   ]
  },
  {
   "cell_type": "markdown",
   "id": "f4434218",
   "metadata": {},
   "source": [
    "Iz biblioteke saeborn, kao sns, primijenićemo funkciju boxplot() sa kolonom 'd'. Box plot kreirana je da prikaže sažetak skupa vrijednosti podataka koji imaju svojstva kao što su minimum, prvi kvartil, medijan, treći kvartil i maksimum odnosno za vizualizaciju distribucija. Kreira se okvir od prvog kvartila do trećeg kvartila, tu je i horizontalna linija (može biti i verikalna) koja prolazi kroz kutiju na medijani. \n",
    "\n",
    "Uočimo outlier na desnoj strani gornje slike u koloni 'd'."
   ]
  },
  {
   "cell_type": "markdown",
   "id": "872112cb",
   "metadata": {},
   "source": [
    "Pa počnimo sa metodom IQR-a. Prvo ćemo prikazati prvi kvartil i treći kvartil."
   ]
  },
  {
   "cell_type": "code",
   "execution_count": 7,
   "id": "1ed431e7",
   "metadata": {},
   "outputs": [
    {
     "data": {
      "text/html": [
       "<div>\n",
       "<style scoped>\n",
       "    .dataframe tbody tr th:only-of-type {\n",
       "        vertical-align: middle;\n",
       "    }\n",
       "\n",
       "    .dataframe tbody tr th {\n",
       "        vertical-align: top;\n",
       "    }\n",
       "\n",
       "    .dataframe thead th {\n",
       "        text-align: right;\n",
       "    }\n",
       "</style>\n",
       "<table border=\"1\" class=\"dataframe\">\n",
       "  <thead>\n",
       "    <tr style=\"text-align: right;\">\n",
       "      <th></th>\n",
       "      <th>slovo</th>\n",
       "      <th>a</th>\n",
       "      <th>b</th>\n",
       "      <th>c</th>\n",
       "      <th>d</th>\n",
       "      <th>f</th>\n",
       "    </tr>\n",
       "  </thead>\n",
       "  <tbody>\n",
       "    <tr>\n",
       "      <th>0</th>\n",
       "      <td>C</td>\n",
       "      <td>5.86</td>\n",
       "      <td>11.59</td>\n",
       "      <td>75.54</td>\n",
       "      <td>5.087000e+01</td>\n",
       "      <td>5.578</td>\n",
       "    </tr>\n",
       "    <tr>\n",
       "      <th>1</th>\n",
       "      <td>B</td>\n",
       "      <td>5.54</td>\n",
       "      <td>56.06</td>\n",
       "      <td>36.59</td>\n",
       "      <td>7.601000e+01</td>\n",
       "      <td>32.450</td>\n",
       "    </tr>\n",
       "    <tr>\n",
       "      <th>2</th>\n",
       "      <td>C</td>\n",
       "      <td>70.21</td>\n",
       "      <td>69.10</td>\n",
       "      <td>47.90</td>\n",
       "      <td>7.992000e+01</td>\n",
       "      <td>7.589</td>\n",
       "    </tr>\n",
       "    <tr>\n",
       "      <th>3</th>\n",
       "      <td>C</td>\n",
       "      <td>87.02</td>\n",
       "      <td>56.71</td>\n",
       "      <td>54.21</td>\n",
       "      <td>6.220000e+00</td>\n",
       "      <td>6.210</td>\n",
       "    </tr>\n",
       "    <tr>\n",
       "      <th>4</th>\n",
       "      <td>B</td>\n",
       "      <td>25.19</td>\n",
       "      <td>41.91</td>\n",
       "      <td>31.14</td>\n",
       "      <td>1.008100e+02</td>\n",
       "      <td>8.810</td>\n",
       "    </tr>\n",
       "    <tr>\n",
       "      <th>...</th>\n",
       "      <td>...</td>\n",
       "      <td>...</td>\n",
       "      <td>...</td>\n",
       "      <td>...</td>\n",
       "      <td>...</td>\n",
       "      <td>...</td>\n",
       "    </tr>\n",
       "    <tr>\n",
       "      <th>9995</th>\n",
       "      <td>A</td>\n",
       "      <td>5.86</td>\n",
       "      <td>85.91</td>\n",
       "      <td>63.15</td>\n",
       "      <td>2.269000e+01</td>\n",
       "      <td>5.860</td>\n",
       "    </tr>\n",
       "    <tr>\n",
       "      <th>9996</th>\n",
       "      <td>B</td>\n",
       "      <td>80.16</td>\n",
       "      <td>98.09</td>\n",
       "      <td>69.20</td>\n",
       "      <td>6.094000e+01</td>\n",
       "      <td>8.322</td>\n",
       "    </tr>\n",
       "    <tr>\n",
       "      <th>9997</th>\n",
       "      <td>A</td>\n",
       "      <td>32.30</td>\n",
       "      <td>54.55</td>\n",
       "      <td>40.00</td>\n",
       "      <td>2.132131e+08</td>\n",
       "      <td>32.300</td>\n",
       "    </tr>\n",
       "    <tr>\n",
       "      <th>9998</th>\n",
       "      <td>A</td>\n",
       "      <td>39.20</td>\n",
       "      <td>28.94</td>\n",
       "      <td>22.67</td>\n",
       "      <td>9.428000e+01</td>\n",
       "      <td>39.200</td>\n",
       "    </tr>\n",
       "    <tr>\n",
       "      <th>9999</th>\n",
       "      <td>A</td>\n",
       "      <td>11.80</td>\n",
       "      <td>38.51</td>\n",
       "      <td>2.15</td>\n",
       "      <td>8.247000e+01</td>\n",
       "      <td>11.800</td>\n",
       "    </tr>\n",
       "  </tbody>\n",
       "</table>\n",
       "<p>10000 rows × 6 columns</p>\n",
       "</div>"
      ],
      "text/plain": [
       "     slovo      a      b      c             d       f\n",
       "0        C   5.86  11.59  75.54  5.087000e+01   5.578\n",
       "1        B   5.54  56.06  36.59  7.601000e+01  32.450\n",
       "2        C  70.21  69.10  47.90  7.992000e+01   7.589\n",
       "3        C  87.02  56.71  54.21  6.220000e+00   6.210\n",
       "4        B  25.19  41.91  31.14  1.008100e+02   8.810\n",
       "...    ...    ...    ...    ...           ...     ...\n",
       "9995     A   5.86  85.91  63.15  2.269000e+01   5.860\n",
       "9996     B  80.16  98.09  69.20  6.094000e+01   8.322\n",
       "9997     A  32.30  54.55  40.00  2.132131e+08  32.300\n",
       "9998     A  39.20  28.94  22.67  9.428000e+01  39.200\n",
       "9999     A  11.80  38.51   2.15  8.247000e+01  11.800\n",
       "\n",
       "[10000 rows x 6 columns]"
      ]
     },
     "execution_count": 7,
     "metadata": {},
     "output_type": "execute_result"
    }
   ],
   "source": [
    "podaci"
   ]
  },
  {
   "cell_type": "code",
   "execution_count": 8,
   "id": "be0f8cd4",
   "metadata": {},
   "outputs": [
    {
     "data": {
      "text/plain": [
       "26.115000000000002"
      ]
     },
     "execution_count": 8,
     "metadata": {},
     "output_type": "execute_result"
    }
   ],
   "source": [
    "podaci['d'].quantile(0.25)"
   ]
  },
  {
   "cell_type": "code",
   "execution_count": 9,
   "id": "b29aa498",
   "metadata": {},
   "outputs": [
    {
     "data": {
      "text/plain": [
       "76.16499999999999"
      ]
     },
     "execution_count": 9,
     "metadata": {},
     "output_type": "execute_result"
    }
   ],
   "source": [
    "podaci['d'].quantile(0.75)"
   ]
  },
  {
   "cell_type": "markdown",
   "id": "a5e47e8b",
   "metadata": {},
   "source": [
    "Smjestimo kvartile u odgovarajuće varijable, i izračunajmo IQR kao razliku trećeg i prvog kvartila."
   ]
  },
  {
   "cell_type": "code",
   "execution_count": 10,
   "id": "c3554283",
   "metadata": {},
   "outputs": [
    {
     "data": {
      "text/plain": [
       "50.04999999999999"
      ]
     },
     "execution_count": 10,
     "metadata": {},
     "output_type": "execute_result"
    }
   ],
   "source": [
    "Q1 = podaci['d'].quantile(0.25)\n",
    "Q3 = podaci['d'].quantile(0.75)\n",
    "IQR = Q3 - Q1\n",
    "IQR"
   ]
  },
  {
   "cell_type": "code",
   "execution_count": 11,
   "id": "ac2f93a3",
   "metadata": {},
   "outputs": [],
   "source": [
    "donja_granica = Q1 - 1.5 * IQR\n",
    "gornja_granica = Q3 + 1.5 * IQR"
   ]
  },
  {
   "cell_type": "code",
   "execution_count": 12,
   "id": "5b623d7b",
   "metadata": {},
   "outputs": [
    {
     "data": {
      "text/plain": [
       "-48.95999999999999"
      ]
     },
     "execution_count": 12,
     "metadata": {},
     "output_type": "execute_result"
    }
   ],
   "source": [
    "donja_granica"
   ]
  },
  {
   "cell_type": "code",
   "execution_count": 13,
   "id": "8b4eb1d8",
   "metadata": {},
   "outputs": [
    {
     "data": {
      "text/plain": [
       "151.23999999999998"
      ]
     },
     "execution_count": 13,
     "metadata": {},
     "output_type": "execute_result"
    }
   ],
   "source": [
    "gornja_granica"
   ]
  },
  {
   "cell_type": "code",
   "execution_count": 14,
   "id": "a62b280f",
   "metadata": {},
   "outputs": [
    {
     "data": {
      "text/html": [
       "<div>\n",
       "<style scoped>\n",
       "    .dataframe tbody tr th:only-of-type {\n",
       "        vertical-align: middle;\n",
       "    }\n",
       "\n",
       "    .dataframe tbody tr th {\n",
       "        vertical-align: top;\n",
       "    }\n",
       "\n",
       "    .dataframe thead th {\n",
       "        text-align: right;\n",
       "    }\n",
       "</style>\n",
       "<table border=\"1\" class=\"dataframe\">\n",
       "  <thead>\n",
       "    <tr style=\"text-align: right;\">\n",
       "      <th></th>\n",
       "      <th>slovo</th>\n",
       "      <th>a</th>\n",
       "      <th>b</th>\n",
       "      <th>c</th>\n",
       "      <th>d</th>\n",
       "      <th>f</th>\n",
       "    </tr>\n",
       "  </thead>\n",
       "  <tbody>\n",
       "    <tr>\n",
       "      <th>9997</th>\n",
       "      <td>A</td>\n",
       "      <td>32.3</td>\n",
       "      <td>54.55</td>\n",
       "      <td>40.0</td>\n",
       "      <td>2.132131e+08</td>\n",
       "      <td>32.3</td>\n",
       "    </tr>\n",
       "  </tbody>\n",
       "</table>\n",
       "</div>"
      ],
      "text/plain": [
       "     slovo     a      b     c             d     f\n",
       "9997     A  32.3  54.55  40.0  2.132131e+08  32.3"
      ]
     },
     "execution_count": 14,
     "metadata": {},
     "output_type": "execute_result"
    }
   ],
   "source": [
    "aut = podaci[(podaci['d'] < donja_granica) | (podaci['d'] > gornja_granica)]\n",
    "aut"
   ]
  },
  {
   "cell_type": "markdown",
   "id": "81e716d3",
   "metadata": {},
   "source": [
    "Dakle IQR metodom potvrđen je outlier u koloni 'd', gdje smo veliki broj i ranije uočili na lokaciji '9997'. "
   ]
  },
  {
   "cell_type": "code",
   "execution_count": 15,
   "id": "774c6f34",
   "metadata": {},
   "outputs": [
    {
     "name": "stdout",
     "output_type": "stream",
     "text": [
      "9997\n"
     ]
    }
   ],
   "source": [
    "print(aut.index[0])"
   ]
  },
  {
   "cell_type": "code",
   "execution_count": 16,
   "id": "7bc38c9e",
   "metadata": {},
   "outputs": [
    {
     "data": {
      "text/plain": [
       "213213116.34"
      ]
     },
     "execution_count": 16,
     "metadata": {},
     "output_type": "execute_result"
    }
   ],
   "source": [
    "podaci.iloc[9997][4]"
   ]
  },
  {
   "cell_type": "code",
   "execution_count": 17,
   "id": "f31b8e72",
   "metadata": {},
   "outputs": [
    {
     "data": {
      "text/plain": [
       "slovo        A\n",
       "a         32.3\n",
       "b        54.55\n",
       "c         40.0\n",
       "d          NaN\n",
       "f         32.3\n",
       "Name: 9997, dtype: object"
      ]
     },
     "execution_count": 17,
     "metadata": {},
     "output_type": "execute_result"
    }
   ],
   "source": [
    "podaci.iloc[9997, podaci.columns.get_loc('d')] = np.nan\n",
    "podaci.iloc[9997]"
   ]
  },
  {
   "cell_type": "code",
   "execution_count": 18,
   "id": "c80f64ae",
   "metadata": {
    "scrolled": true
   },
   "outputs": [
    {
     "data": {
      "text/plain": [
       "0       False\n",
       "1       False\n",
       "2       False\n",
       "3       False\n",
       "4       False\n",
       "        ...  \n",
       "9995    False\n",
       "9996    False\n",
       "9997    False\n",
       "9998    False\n",
       "9999    False\n",
       "Name: d, Length: 10000, dtype: bool"
      ]
     },
     "execution_count": 18,
     "metadata": {},
     "output_type": "execute_result"
    }
   ],
   "source": [
    "outlejeri_donja_granica = (podaci['d'] < donja_granica)\n",
    "outlejeri_gornja_granica = (podaci['d'] > gornja_granica)\n",
    "outlejeri_gornja_granica"
   ]
  },
  {
   "cell_type": "markdown",
   "id": "75e9b3eb",
   "metadata": {},
   "source": [
    "Ovdje vidimo takođe da nema više izuzetaka na mjestu '9997'."
   ]
  },
  {
   "cell_type": "code",
   "execution_count": 19,
   "id": "75a8d6ae",
   "metadata": {
    "scrolled": true
   },
   "outputs": [
    {
     "data": {
      "text/plain": [
       "<AxesSubplot:xlabel='d'>"
      ]
     },
     "execution_count": 19,
     "metadata": {},
     "output_type": "execute_result"
    },
    {
     "data": {
      "image/png": "[encoded data removed]",
      "text/plain": [
       "<Figure size 432x288 with 1 Axes>"
      ]
     },
     "metadata": {
      "needs_background": "light"
     },
     "output_type": "display_data"
    }
   ],
   "source": [
    "sns.boxplot(x = podaci['d'])"
   ]
  },
  {
   "cell_type": "markdown",
   "id": "25351560",
   "metadata": {},
   "source": [
    "Sada vidimo da je kolona 'd' u dobrom stanju, bez izuzetaka. Primijeniću IQR metodu i na kolone 'a', 'b', 'c' i 'f', odnosno ponoviću identičan postupak detekcije i uklanjanja izuzetaka na pomenute kolone."
   ]
  },
  {
   "cell_type": "code",
   "execution_count": 20,
   "id": "4e63a8c3",
   "metadata": {},
   "outputs": [
    {
     "data": {
      "text/plain": [
       "<AxesSubplot:xlabel='a'>"
      ]
     },
     "execution_count": 20,
     "metadata": {},
     "output_type": "execute_result"
    },
    {
     "data": {
      "image/png": "[encoded data removed]",
      "text/plain": [
       "<Figure size 432x288 with 1 Axes>"
      ]
     },
     "metadata": {
      "needs_background": "light"
     },
     "output_type": "display_data"
    }
   ],
   "source": [
    "sns.boxplot(x = podaci['a'])"
   ]
  },
  {
   "cell_type": "code",
   "execution_count": 21,
   "id": "31be64d2",
   "metadata": {},
   "outputs": [
    {
     "name": "stdout",
     "output_type": "stream",
     "text": [
      "     slovo      a     b      c      d     f\n",
      "9967     C -52.01  96.2  28.55  81.88  16.9\n"
     ]
    }
   ],
   "source": [
    "podaci['a'].quantile(0.25)\n",
    "podaci['a'].quantile(0.75)\n",
    "Q1 = podaci['a'].quantile(0.25)\n",
    "Q3 = podaci['a'].quantile(0.75)\n",
    "IQR = Q3 - Q1\n",
    "\n",
    "donja_granica = Q1 - 1.5 * IQR\n",
    "gornja_granica = Q3 + 1.5 * IQR\n",
    "\n",
    "aut = podaci[(podaci['a'] < donja_granica) | (podaci['a'] > gornja_granica)]\n",
    "print(aut)\n"
   ]
  },
  {
   "cell_type": "code",
   "execution_count": 22,
   "id": "02c877cc",
   "metadata": {},
   "outputs": [
    {
     "data": {
      "text/plain": [
       "slovo        C\n",
       "a          NaN\n",
       "b         96.2\n",
       "c        28.55\n",
       "d        81.88\n",
       "f         16.9\n",
       "Name: 9967, dtype: object"
      ]
     },
     "execution_count": 22,
     "metadata": {},
     "output_type": "execute_result"
    }
   ],
   "source": [
    "podaci.iloc[9967, podaci.columns.get_loc('a')] = np.nan\n",
    "podaci.iloc[9967]"
   ]
  },
  {
   "cell_type": "markdown",
   "id": "db34dc76",
   "metadata": {},
   "source": [
    "Uklonjen izuzetak iz kolone 'a' na mjestu '9967' sa NaN"
   ]
  },
  {
   "cell_type": "code",
   "execution_count": 23,
   "id": "6fae847a",
   "metadata": {},
   "outputs": [
    {
     "data": {
      "text/plain": [
       "<AxesSubplot:xlabel='a'>"
      ]
     },
     "execution_count": 23,
     "metadata": {},
     "output_type": "execute_result"
    },
    {
     "data": {
      "image/png": "[encoded data removed]",
      "text/plain": [
       "<Figure size 432x288 with 1 Axes>"
      ]
     },
     "metadata": {
      "needs_background": "light"
     },
     "output_type": "display_data"
    }
   ],
   "source": [
    "sns.boxplot(x = podaci['a'])"
   ]
  },
  {
   "cell_type": "code",
   "execution_count": 24,
   "id": "3f09cf94",
   "metadata": {
    "scrolled": true
   },
   "outputs": [
    {
     "data": {
      "text/plain": [
       "<AxesSubplot:xlabel='b'>"
      ]
     },
     "execution_count": 24,
     "metadata": {},
     "output_type": "execute_result"
    },
    {
     "data": {
      "image/png": "[encoded data removed]",
      "text/plain": [
       "<Figure size 432x288 with 1 Axes>"
      ]
     },
     "metadata": {
      "needs_background": "light"
     },
     "output_type": "display_data"
    }
   ],
   "source": [
    "sns.boxplot(x = podaci['b'], )"
   ]
  },
  {
   "cell_type": "code",
   "execution_count": 25,
   "id": "673dd620",
   "metadata": {},
   "outputs": [
    {
     "data": {
      "text/plain": [
       "<AxesSubplot:xlabel='c'>"
      ]
     },
     "execution_count": 25,
     "metadata": {},
     "output_type": "execute_result"
    },
    {
     "data": {
      "image/png": "[encoded data removed]",
      "text/plain": [
       "<Figure size 432x288 with 1 Axes>"
      ]
     },
     "metadata": {
      "needs_background": "light"
     },
     "output_type": "display_data"
    }
   ],
   "source": [
    "sns.boxplot(x = podaci['c'])"
   ]
  },
  {
   "cell_type": "markdown",
   "id": "1a2d0f5b",
   "metadata": {},
   "source": [
    "Kolone 'b' i 'c' nemaju drastičnih izuzetaka, pa tu ne moramo primjenjivati IQR metod."
   ]
  },
  {
   "cell_type": "code",
   "execution_count": 26,
   "id": "9be5857b",
   "metadata": {},
   "outputs": [
    {
     "data": {
      "text/plain": [
       "<AxesSubplot:xlabel='f'>"
      ]
     },
     "execution_count": 26,
     "metadata": {},
     "output_type": "execute_result"
    },
    {
     "data": {
      "image/png": "[encoded data removed]",
      "text/plain": [
       "<Figure size 432x288 with 1 Axes>"
      ]
     },
     "metadata": {
      "needs_background": "light"
     },
     "output_type": "display_data"
    }
   ],
   "source": [
    "sns.boxplot(x = podaci['f'])"
   ]
  },
  {
   "cell_type": "code",
   "execution_count": 27,
   "id": "658edba8",
   "metadata": {},
   "outputs": [
    {
     "name": "stdout",
     "output_type": "stream",
     "text": [
      "     slovo      a      b      c      d       f\n",
      "5        A  63.27  14.55  73.99  94.27  63.270\n",
      "11       A  94.28  72.36  53.71   9.01  94.280\n",
      "23       A  49.62  13.17   4.58  49.63  49.620\n",
      "24       A  50.23  28.93  55.18   7.41  50.230\n",
      "26       A  78.79  71.37  19.35  83.42  78.790\n",
      "...    ...    ...    ...    ...    ...     ...\n",
      "9981     A  91.85  40.39  19.77  32.30  91.850\n",
      "9985     C   3.36  98.98  67.75  47.61  87.520\n",
      "9988     A  52.78  96.18   1.62  29.48  52.780\n",
      "9990     C   1.96  82.94  75.26  50.26  92.236\n",
      "9991     A  55.54  52.06   2.30  34.92  55.540\n",
      "\n",
      "[2035 rows x 6 columns]\n",
      "2035\n"
     ]
    }
   ],
   "source": [
    "podaci['f'].quantile(0.25)\n",
    "podaci['f'].quantile(0.75)\n",
    "Q1 = podaci['f'].quantile(0.25)\n",
    "Q3 = podaci['f'].quantile(0.75)\n",
    "IQR = Q3 - Q1\n",
    "\n",
    "donja_granica = Q1 - 0.3 * IQR\n",
    "gornja_granica = Q3 + 0.3 * IQR\n",
    "\n",
    "aut = podaci[(podaci['f'] < donja_granica) | (podaci['f'] > gornja_granica)]\n",
    "print(aut.iloc[:,:])\n",
    "print(len(aut))"
   ]
  },
  {
   "cell_type": "code",
   "execution_count": 28,
   "id": "f6f627a7",
   "metadata": {},
   "outputs": [],
   "source": [
    "for i in range(1, len(aut) + 1):\n",
    "    podaci.iloc[i, podaci.columns.get_loc('f')] = np.nan"
   ]
  },
  {
   "cell_type": "code",
   "execution_count": 29,
   "id": "31273a24",
   "metadata": {},
   "outputs": [
    {
     "data": {
      "text/html": [
       "<div>\n",
       "<style scoped>\n",
       "    .dataframe tbody tr th:only-of-type {\n",
       "        vertical-align: middle;\n",
       "    }\n",
       "\n",
       "    .dataframe tbody tr th {\n",
       "        vertical-align: top;\n",
       "    }\n",
       "\n",
       "    .dataframe thead th {\n",
       "        text-align: right;\n",
       "    }\n",
       "</style>\n",
       "<table border=\"1\" class=\"dataframe\">\n",
       "  <thead>\n",
       "    <tr style=\"text-align: right;\">\n",
       "      <th></th>\n",
       "      <th>slovo</th>\n",
       "      <th>a</th>\n",
       "      <th>b</th>\n",
       "      <th>c</th>\n",
       "      <th>d</th>\n",
       "      <th>f</th>\n",
       "    </tr>\n",
       "  </thead>\n",
       "  <tbody>\n",
       "    <tr>\n",
       "      <th>0</th>\n",
       "      <td>C</td>\n",
       "      <td>5.86</td>\n",
       "      <td>11.59</td>\n",
       "      <td>75.54</td>\n",
       "      <td>50.87</td>\n",
       "      <td>5.578</td>\n",
       "    </tr>\n",
       "    <tr>\n",
       "      <th>1</th>\n",
       "      <td>B</td>\n",
       "      <td>5.54</td>\n",
       "      <td>56.06</td>\n",
       "      <td>36.59</td>\n",
       "      <td>76.01</td>\n",
       "      <td>NaN</td>\n",
       "    </tr>\n",
       "    <tr>\n",
       "      <th>2</th>\n",
       "      <td>C</td>\n",
       "      <td>70.21</td>\n",
       "      <td>69.10</td>\n",
       "      <td>47.90</td>\n",
       "      <td>79.92</td>\n",
       "      <td>NaN</td>\n",
       "    </tr>\n",
       "    <tr>\n",
       "      <th>3</th>\n",
       "      <td>C</td>\n",
       "      <td>87.02</td>\n",
       "      <td>56.71</td>\n",
       "      <td>54.21</td>\n",
       "      <td>6.22</td>\n",
       "      <td>NaN</td>\n",
       "    </tr>\n",
       "    <tr>\n",
       "      <th>4</th>\n",
       "      <td>B</td>\n",
       "      <td>25.19</td>\n",
       "      <td>41.91</td>\n",
       "      <td>31.14</td>\n",
       "      <td>100.81</td>\n",
       "      <td>NaN</td>\n",
       "    </tr>\n",
       "    <tr>\n",
       "      <th>...</th>\n",
       "      <td>...</td>\n",
       "      <td>...</td>\n",
       "      <td>...</td>\n",
       "      <td>...</td>\n",
       "      <td>...</td>\n",
       "      <td>...</td>\n",
       "    </tr>\n",
       "    <tr>\n",
       "      <th>9995</th>\n",
       "      <td>A</td>\n",
       "      <td>5.86</td>\n",
       "      <td>85.91</td>\n",
       "      <td>63.15</td>\n",
       "      <td>22.69</td>\n",
       "      <td>5.860</td>\n",
       "    </tr>\n",
       "    <tr>\n",
       "      <th>9996</th>\n",
       "      <td>B</td>\n",
       "      <td>80.16</td>\n",
       "      <td>98.09</td>\n",
       "      <td>69.20</td>\n",
       "      <td>60.94</td>\n",
       "      <td>8.322</td>\n",
       "    </tr>\n",
       "    <tr>\n",
       "      <th>9997</th>\n",
       "      <td>A</td>\n",
       "      <td>32.30</td>\n",
       "      <td>54.55</td>\n",
       "      <td>40.00</td>\n",
       "      <td>NaN</td>\n",
       "      <td>32.300</td>\n",
       "    </tr>\n",
       "    <tr>\n",
       "      <th>9998</th>\n",
       "      <td>A</td>\n",
       "      <td>39.20</td>\n",
       "      <td>28.94</td>\n",
       "      <td>22.67</td>\n",
       "      <td>94.28</td>\n",
       "      <td>39.200</td>\n",
       "    </tr>\n",
       "    <tr>\n",
       "      <th>9999</th>\n",
       "      <td>A</td>\n",
       "      <td>11.80</td>\n",
       "      <td>38.51</td>\n",
       "      <td>2.15</td>\n",
       "      <td>82.47</td>\n",
       "      <td>11.800</td>\n",
       "    </tr>\n",
       "  </tbody>\n",
       "</table>\n",
       "<p>10000 rows × 6 columns</p>\n",
       "</div>"
      ],
      "text/plain": [
       "     slovo      a      b      c       d       f\n",
       "0        C   5.86  11.59  75.54   50.87   5.578\n",
       "1        B   5.54  56.06  36.59   76.01     NaN\n",
       "2        C  70.21  69.10  47.90   79.92     NaN\n",
       "3        C  87.02  56.71  54.21    6.22     NaN\n",
       "4        B  25.19  41.91  31.14  100.81     NaN\n",
       "...    ...    ...    ...    ...     ...     ...\n",
       "9995     A   5.86  85.91  63.15   22.69   5.860\n",
       "9996     B  80.16  98.09  69.20   60.94   8.322\n",
       "9997     A  32.30  54.55  40.00     NaN  32.300\n",
       "9998     A  39.20  28.94  22.67   94.28  39.200\n",
       "9999     A  11.80  38.51   2.15   82.47  11.800\n",
       "\n",
       "[10000 rows x 6 columns]"
      ]
     },
     "execution_count": 29,
     "metadata": {},
     "output_type": "execute_result"
    }
   ],
   "source": [
    "podaci"
   ]
  },
  {
   "cell_type": "code",
   "execution_count": 30,
   "id": "6b77b20e",
   "metadata": {
    "scrolled": true
   },
   "outputs": [
    {
     "data": {
      "text/plain": [
       "<AxesSubplot:xlabel='f'>"
      ]
     },
     "execution_count": 30,
     "metadata": {},
     "output_type": "execute_result"
    },
    {
     "data": {
      "image/png": "[encoded data removed]",
      "text/plain": [
       "<Figure size 432x288 with 1 Axes>"
      ]
     },
     "metadata": {
      "needs_background": "light"
     },
     "output_type": "display_data"
    }
   ],
   "source": [
    "sns.boxplot(x = podaci['f'])"
   ]
  },
  {
   "cell_type": "markdown",
   "id": "f2760695",
   "metadata": {},
   "source": [
    "   "
   ]
  },
  {
   "cell_type": "markdown",
   "id": "05acdb39",
   "metadata": {},
   "source": [
    "   "
   ]
  },
  {
   "cell_type": "markdown",
   "id": "b4cc3543",
   "metadata": {},
   "source": [
    "   "
   ]
  },
  {
   "cell_type": "markdown",
   "id": "a278ab83",
   "metadata": {},
   "source": [
    "# Separating Data Frame"
   ]
  },
  {
   "cell_type": "markdown",
   "id": "3f4737c4",
   "metadata": {},
   "source": [
    "  "
   ]
  },
  {
   "cell_type": "code",
   "execution_count": 31,
   "id": "2021c0d9",
   "metadata": {
    "scrolled": true
   },
   "outputs": [],
   "source": [
    "X = podaci.iloc[:,:-1].values\n",
    "y = podaci.iloc[:,-1:].values"
   ]
  },
  {
   "cell_type": "markdown",
   "id": "77824202",
   "metadata": {},
   "source": [
    "Ovdje ćemo razdvojiti naš dataframe 'podaci' na NumPy objekte X i y. \n",
    "\n",
    ".iloc su lokacije indeksa od nula pa nadalje u originalnom dataframe-u 'podaci' i one se čuvaju iako kasnije slijedi razdvajanje na -train- i -test-, dakle ostaće iste lokacije indeksa.\n",
    "Metoda .values vraća vrijednosti iz nekog rečnika, niza. Želimo da dobijemo obične matrice."
   ]
  },
  {
   "cell_type": "code",
   "execution_count": 32,
   "id": "12ea1907",
   "metadata": {},
   "outputs": [
    {
     "data": {
      "text/plain": [
       "array([['C', 5.86, 11.59, 75.54, 50.87],\n",
       "       ['B', 5.54, 56.06, 36.59, 76.01],\n",
       "       ['C', 70.21, 69.1, 47.9, 79.92],\n",
       "       ...,\n",
       "       ['A', 32.3, 54.55, 40.0, nan],\n",
       "       ['A', 39.2, 28.94, 22.67, 94.28],\n",
       "       ['A', 11.8, 38.51, 2.15, 82.47]], dtype=object)"
      ]
     },
     "execution_count": 32,
     "metadata": {},
     "output_type": "execute_result"
    }
   ],
   "source": [
    "X"
   ]
  },
  {
   "cell_type": "code",
   "execution_count": 33,
   "id": "adc14ceb",
   "metadata": {},
   "outputs": [
    {
     "data": {
      "text/plain": [
       "array([[ 5.578],\n",
       "       [   nan],\n",
       "       [   nan],\n",
       "       ...,\n",
       "       [32.3  ],\n",
       "       [39.2  ],\n",
       "       [11.8  ]])"
      ]
     },
     "execution_count": 33,
     "metadata": {},
     "output_type": "execute_result"
    }
   ],
   "source": [
    "y"
   ]
  },
  {
   "cell_type": "code",
   "execution_count": 34,
   "id": "4f0d226a",
   "metadata": {},
   "outputs": [],
   "source": [
    "imputer = SimpleImputer(missing_values = np.nan, strategy = 'mean')\n",
    "imputer.fit(X[:, 1:])\n",
    "X[:, 1:] = imputer.transform(X[:, 1:])\n",
    "imputer.fit(y)\n",
    "y = imputer.transform(y)"
   ]
  },
  {
   "cell_type": "markdown",
   "id": "e98fff55",
   "metadata": {},
   "source": [
    "Klasom SimpleImputer zamijeniti će se sva NotANumber mjesta sa 'mean' odnosno koristeći srednju vrijednost duž svake kolone."
   ]
  },
  {
   "cell_type": "code",
   "execution_count": 35,
   "id": "d7825fbb",
   "metadata": {},
   "outputs": [
    {
     "data": {
      "text/plain": [
       "array([['C', 5.86, 11.59, 75.54, 50.87],\n",
       "       ['B', 5.54, 56.06, 36.59, 76.01],\n",
       "       ['C', 70.21, 69.1, 47.9, 79.92],\n",
       "       ...,\n",
       "       ['A', 32.3, 54.55, 40.0, 51.16059129564782],\n",
       "       ['A', 39.2, 28.94, 22.67, 94.28],\n",
       "       ['A', 11.8, 38.51, 2.15, 82.47]], dtype=object)"
      ]
     },
     "execution_count": 35,
     "metadata": {},
     "output_type": "execute_result"
    }
   ],
   "source": [
    "X"
   ]
  },
  {
   "cell_type": "code",
   "execution_count": 36,
   "id": "e373e746",
   "metadata": {
    "scrolled": true
   },
   "outputs": [
    {
     "data": {
      "text/plain": [
       "array([[ 5.578     ],\n",
       "       [28.93944312],\n",
       "       [28.93944312],\n",
       "       ...,\n",
       "       [32.3       ],\n",
       "       [39.2       ],\n",
       "       [11.8       ]])"
      ]
     },
     "execution_count": 36,
     "metadata": {},
     "output_type": "execute_result"
    }
   ],
   "source": [
    "y"
   ]
  },
  {
   "cell_type": "markdown",
   "id": "c949a123",
   "metadata": {},
   "source": [
    "  "
   ]
  },
  {
   "cell_type": "code",
   "execution_count": 37,
   "id": "c93ab5fc",
   "metadata": {},
   "outputs": [
    {
     "name": "stdout",
     "output_type": "stream",
     "text": [
      "Index razlicito od slova je:  428\n",
      "Index razlicito od slova je:  432\n",
      "Index razlicito od slova je:  433\n",
      "Index razlicito od slova je:  484\n"
     ]
    }
   ],
   "source": [
    "for i in range(0, len(y)):\n",
    "    if ((X[i][0] != 'A') and (X[i][0] != 'B') and (X[i][0] != 'C') and (X[i][0] != 'F')):\n",
    "           print(\"Index razlicito od slova je: \", i)"
   ]
  },
  {
   "cell_type": "markdown",
   "id": "44b2e87f",
   "metadata": {},
   "source": [
    "Ponjavanje prazih mjesta u koloni 'slovo' sa NaN vrijednosti."
   ]
  },
  {
   "cell_type": "code",
   "execution_count": 38,
   "id": "4f56ca5f",
   "metadata": {},
   "outputs": [],
   "source": [
    "X[419][0] = np.nan\n",
    "X[422][0] = np.nan\n",
    "X[423][0] = np.nan\n",
    "X[473][0] = np.nan"
   ]
  },
  {
   "cell_type": "markdown",
   "id": "86db2aa3",
   "metadata": {},
   "source": [
    "Od ukupno 9864 podataka, 9860 su slova dok su preostala 4 prazna mjesta. "
   ]
  },
  {
   "cell_type": "code",
   "execution_count": 39,
   "id": "eeb79da6",
   "metadata": {},
   "outputs": [],
   "source": [
    "imputer = SimpleImputer(missing_values = np.nan, strategy = 'most_frequent')\n",
    "imputer.fit(X[:, 0:1])\n",
    "X[:, 0:1] = imputer.transform(X[:, 0:1])"
   ]
  },
  {
   "cell_type": "markdown",
   "id": "ad909223",
   "metadata": {},
   "source": [
    "Ovim smo sa najučestalijim slovom ispunili np.nan mjesta u koloni 'slovo'."
   ]
  },
  {
   "cell_type": "markdown",
   "id": "e5e95794",
   "metadata": {},
   "source": [
    "#### Kodiranje kolone 'slovo'"
   ]
  },
  {
   "cell_type": "code",
   "execution_count": 40,
   "id": "3966d2af",
   "metadata": {},
   "outputs": [],
   "source": [
    "ct = ColumnTransformer([('encoder', OneHotEncoder(), [0])], remainder = 'passthrough')"
   ]
  },
  {
   "cell_type": "markdown",
   "id": "1bb03e89",
   "metadata": {},
   "source": [
    "Ulaz za ovaj transformator bi trebao biti niz cijelih brojeva ili nizova, koji označava vrijednosti koje preuzimaju kategoričke (diskretne) karakteristike. Karakteristike su kodirane korištenjem one-hot šeme kodiranja. Ovo stvara binarnu kolonu za svaku kategoriju i vraća rijetku matricu ili gusti niz."
   ]
  },
  {
   "cell_type": "code",
   "execution_count": 41,
   "id": "5728f817",
   "metadata": {},
   "outputs": [
    {
     "data": {
      "text/plain": [
       "array([0.0, 0.0, 1.0, 0.0, 5.86, 11.59, 75.54, 50.87], dtype=object)"
      ]
     },
     "execution_count": 41,
     "metadata": {},
     "output_type": "execute_result"
    }
   ],
   "source": [
    "X = ct.fit_transform(X)\n",
    "X[0]"
   ]
  },
  {
   "cell_type": "markdown",
   "id": "46b01af9",
   "metadata": {},
   "source": [
    "  "
   ]
  },
  {
   "cell_type": "markdown",
   "id": "18620615",
   "metadata": {},
   "source": [
    "  "
   ]
  },
  {
   "cell_type": "markdown",
   "id": "c78fde69",
   "metadata": {},
   "source": [
    "### Train Test Split"
   ]
  },
  {
   "cell_type": "code",
   "execution_count": 42,
   "id": "6194b4f8",
   "metadata": {},
   "outputs": [
    {
     "data": {
      "text/plain": [
       "array([[1.0, 0.0, 0.0, ..., 86.27, 6.69, 59.54],\n",
       "       [0.0, 0.0, 1.0, ..., 99.33, 1.35, 55.71],\n",
       "       [0.0, 0.0, 1.0, ..., 82.19, 36.08, 51.15],\n",
       "       ...,\n",
       "       [0.0, 0.0, 1.0, ..., 81.54, 97.85, 57.48],\n",
       "       [0.0, 0.0, 1.0, ..., 89.98, 58.85, 31.1],\n",
       "       [0.0, 1.0, 0.0, ..., 3.19, 8.49, 11.95]], dtype=object)"
      ]
     },
     "execution_count": 42,
     "metadata": {},
     "output_type": "execute_result"
    }
   ],
   "source": [
    "X_train, X_test, y_train, y_test = train_test_split(X, y, test_size = 0.2, random_state = 42)\n",
    "X_train"
   ]
  },
  {
   "cell_type": "markdown",
   "id": "017b6d00",
   "metadata": {},
   "source": [
    "Procedura train-test split se koristi za procjenu performansi algoritama mašinskog učenja kada se koriste za predviđanje podataka koji se ne koriste za obuku modela. Train-test split dijeli nizove ili matrice u nasumični trening i test podskupove."
   ]
  },
  {
   "cell_type": "code",
   "execution_count": 43,
   "id": "866dd2ca",
   "metadata": {},
   "outputs": [],
   "source": [
    "sc = StandardScaler()\n",
    "X_train[:,7:] = sc.fit_transform(X_train[:,7:])\n",
    "X_test[:,7:] = sc.transform(X_test[:,7:])"
   ]
  },
  {
   "cell_type": "markdown",
   "id": "de8ae675",
   "metadata": {},
   "source": [
    "StandardScaler obavlja zadatak standardizacije. Obično skup podataka sadrži varijable koje se razlikuju po mjerilu. Za npr. skup podataka o zaposlenicima će sadržavati kolonu 'godine' sa vrijednostima na skali 20-70 i kolonu 'plata' sa vrijednostima na skali 10000-80000.\n",
    "Kako su ove dvije kolone različite po mjerilu, one su standardizirane da imaju zajedničku skalu prilikom izgradnje modela mašinskog učenja."
   ]
  },
  {
   "cell_type": "code",
   "execution_count": 44,
   "id": "696cbf02",
   "metadata": {},
   "outputs": [
    {
     "data": {
      "text/plain": [
       "array([[1.0, 0.0, 0.0, ..., 86.27, 6.69, 0.28408931503090595],\n",
       "       [0.0, 0.0, 1.0, ..., 99.33, 1.35, 0.151380443057501],\n",
       "       [0.0, 0.0, 1.0, ..., 82.19, 36.08, -0.006622809213707165],\n",
       "       ...,\n",
       "       [0.0, 0.0, 1.0, ..., 81.54, 97.85, 0.21271065282066715],\n",
       "       [0.0, 0.0, 1.0, ..., 89.98, 58.85, -0.7013520215026812],\n",
       "       [0.0, 1.0, 0.0, ..., 3.19, 8.49, -1.3648963813697064]],\n",
       "      dtype=object)"
      ]
     },
     "execution_count": 44,
     "metadata": {},
     "output_type": "execute_result"
    }
   ],
   "source": [
    "X_train"
   ]
  },
  {
   "cell_type": "code",
   "execution_count": 45,
   "id": "7d380e31",
   "metadata": {
    "scrolled": true
   },
   "outputs": [
    {
     "data": {
      "text/plain": [
       "array([[0.0, 0.0, 1.0, ..., 83.73, 51.59, 0.006197630115316455],\n",
       "       [0.0, 1.0, 0.0, ..., 88.6, 76.58, 0.2764663511055407],\n",
       "       [0.0, 1.0, 0.0, ..., 7.49, 19.15, 0.5061947639472315],\n",
       "       ...,\n",
       "       [1.0, 0.0, 0.0, ..., 24.03, 61.26, -0.4906810184744038],\n",
       "       [1.0, 0.0, 0.0, ..., 18.13, 28.49, 0.439667078780407],\n",
       "       [0.0, 1.0, 0.0, ..., 93.49, 24.48, 0.3880388231040692]],\n",
       "      dtype=object)"
      ]
     },
     "execution_count": 45,
     "metadata": {},
     "output_type": "execute_result"
    }
   ],
   "source": [
    "X_test"
   ]
  },
  {
   "cell_type": "code",
   "execution_count": 46,
   "id": "d04e6e14",
   "metadata": {
    "scrolled": false
   },
   "outputs": [
    {
     "data": {
      "text/plain": [
       "array([[27.442     ],\n",
       "       [ 8.521     ],\n",
       "       [28.93944312],\n",
       "       ...,\n",
       "       [51.26      ],\n",
       "       [28.93944312],\n",
       "       [44.405     ]])"
      ]
     },
     "execution_count": 46,
     "metadata": {},
     "output_type": "execute_result"
    }
   ],
   "source": [
    "y_test"
   ]
  },
  {
   "cell_type": "markdown",
   "id": "925e2154",
   "metadata": {},
   "source": [
    "  "
   ]
  },
  {
   "cell_type": "markdown",
   "id": "9e178bf9",
   "metadata": {},
   "source": [
    "  "
   ]
  },
  {
   "cell_type": "markdown",
   "id": "c959cf68",
   "metadata": {},
   "source": [
    "# Computing accuracy"
   ]
  },
  {
   "cell_type": "markdown",
   "id": "5b5880ad",
   "metadata": {},
   "source": [
    "### Linearni regresor"
   ]
  },
  {
   "cell_type": "code",
   "execution_count": 47,
   "id": "a03c4fe9",
   "metadata": {},
   "outputs": [
    {
     "data": {
      "text/plain": [
       "LinearRegression()"
      ]
     },
     "execution_count": 47,
     "metadata": {},
     "output_type": "execute_result"
    }
   ],
   "source": [
    "model = LinearRegression()\n",
    "model.fit(X_train, y_train)"
   ]
  },
  {
   "cell_type": "code",
   "execution_count": 48,
   "id": "a8a7a782",
   "metadata": {},
   "outputs": [
    {
     "data": {
      "text/plain": [
       "array([[30.22633433],\n",
       "       [21.70597511],\n",
       "       [19.7585514 ],\n",
       "       ...,\n",
       "       [36.33809372],\n",
       "       [44.74262827],\n",
       "       [38.68929943]])"
      ]
     },
     "execution_count": 48,
     "metadata": {},
     "output_type": "execute_result"
    }
   ],
   "source": [
    "predictions = model.predict(X_test)\n",
    "predictions"
   ]
  },
  {
   "cell_type": "code",
   "execution_count": 49,
   "id": "e23cd28d",
   "metadata": {},
   "outputs": [
    {
     "data": {
      "image/png": "[encoded data removed]",
      "text/plain": [
       "<Figure size 432x288 with 1 Axes>"
      ]
     },
     "metadata": {
      "needs_background": "light"
     },
     "output_type": "display_data"
    }
   ],
   "source": [
    "plt.scatter(y_test, predictions)\n",
    "plt.show()"
   ]
  },
  {
   "cell_type": "code",
   "execution_count": 50,
   "id": "baf21972",
   "metadata": {},
   "outputs": [
    {
     "name": "stdout",
     "output_type": "stream",
     "text": [
      "[57.20833927]\n"
     ]
    }
   ],
   "source": [
    "greska = 0\n",
    "for i in range(len(predictions)):\n",
    "    greska += predictions[i] + y_test[i]\n",
    "\n",
    "print(greska/(len(predictions)))"
   ]
  },
  {
   "cell_type": "markdown",
   "id": "f320c5d5",
   "metadata": {},
   "source": [
    "Greska je ~57.208"
   ]
  },
  {
   "cell_type": "code",
   "execution_count": 51,
   "id": "6e4be46a",
   "metadata": {},
   "outputs": [
    {
     "data": {
      "text/plain": [
       "1347.3546952114161"
      ]
     },
     "execution_count": 51,
     "metadata": {},
     "output_type": "execute_result"
    }
   ],
   "source": [
    "mse = mean_squared_error(y_test, predictions)\n",
    "mse"
   ]
  },
  {
   "cell_type": "markdown",
   "id": "2f0b7d89",
   "metadata": {},
   "source": [
    "Mean Absolute Error je prosječna greška svih apsolutnih grešaka."
   ]
  },
  {
   "cell_type": "code",
   "execution_count": 52,
   "id": "aa7826a9",
   "metadata": {},
   "outputs": [
    {
     "data": {
      "text/plain": [
       "36.706330451455045"
      ]
     },
     "execution_count": 52,
     "metadata": {},
     "output_type": "execute_result"
    }
   ],
   "source": [
    "rmse = np.sqrt(mse)\n",
    "rmse"
   ]
  },
  {
   "cell_type": "markdown",
   "id": "d5e60442",
   "metadata": {},
   "source": [
    "Root Mean Squared Error nam govori koliko su podaci udaljeni od najbolje linije.   "
   ]
  },
  {
   "cell_type": "markdown",
   "id": "ca668eec",
   "metadata": {},
   "source": [
    "   "
   ]
  },
  {
   "cell_type": "code",
   "execution_count": 53,
   "id": "c6f17419",
   "metadata": {},
   "outputs": [
    {
     "data": {
      "image/png": "[encoded data removed]",
      "text/plain": [
       "<Figure size 432x288 with 1 Axes>"
      ]
     },
     "metadata": {
      "needs_background": "light"
     },
     "output_type": "display_data"
    }
   ],
   "source": [
    "fig, ax = plt.subplots()\n",
    "ax.scatter(y_test, predictions, edgecolors = (0, 0, 0))\n",
    "ax.plot([y.min()/16, y.max()/16], [y.min()/16, y.max()/16], \"k--\", lw = 4)\n",
    "ax.set_xlabel(\"Izračunato\")\n",
    "ax.set_ylabel(\"Predviđeno\")\n",
    "plt.show()"
   ]
  },
  {
   "cell_type": "markdown",
   "id": "27bd07ef",
   "metadata": {},
   "source": [
    "  "
   ]
  },
  {
   "cell_type": "markdown",
   "id": "b134609e",
   "metadata": {},
   "source": [
    "  "
   ]
  },
  {
   "cell_type": "markdown",
   "id": "302ff10f",
   "metadata": {},
   "source": [
    "  "
   ]
  },
  {
   "cell_type": "markdown",
   "id": "1df764f9",
   "metadata": {},
   "source": [
    "### Lasso regresor  "
   ]
  },
  {
   "cell_type": "code",
   "execution_count": 54,
   "id": "ca43b458",
   "metadata": {},
   "outputs": [
    {
     "data": {
      "text/plain": [
       "Lasso(alpha=1)"
      ]
     },
     "execution_count": 54,
     "metadata": {},
     "output_type": "execute_result"
    }
   ],
   "source": [
    "lasso_reg = Lasso(alpha = 1)\n",
    "lasso_reg.fit(X_train, y_train)"
   ]
  },
  {
   "cell_type": "code",
   "execution_count": 55,
   "id": "5f6c2b4d",
   "metadata": {},
   "outputs": [
    {
     "data": {
      "text/plain": [
       "array([30.85119676, 23.80931364, 21.76731339, ..., 33.66567067,\n",
       "       41.48562756, 40.55990637])"
      ]
     },
     "execution_count": 55,
     "metadata": {},
     "output_type": "execute_result"
    }
   ],
   "source": [
    "predictions = lasso_reg.predict(X_test)\n",
    "predictions"
   ]
  },
  {
   "cell_type": "code",
   "execution_count": 56,
   "id": "d2a0a5eb",
   "metadata": {},
   "outputs": [
    {
     "name": "stdout",
     "output_type": "stream",
     "text": [
      "[57.21842179]\n"
     ]
    }
   ],
   "source": [
    "greska = 0\n",
    "for i in range(len(predictions)):\n",
    "    greska += predictions[i] + y_test[i]\n",
    "\n",
    "print(greska/(len(predictions)))"
   ]
  },
  {
   "cell_type": "code",
   "execution_count": 57,
   "id": "c46c6514",
   "metadata": {},
   "outputs": [
    {
     "name": "stdout",
     "output_type": "stream",
     "text": [
      "1352.5851619948378\n"
     ]
    },
    {
     "data": {
      "text/plain": [
       "36.77750891502628"
      ]
     },
     "execution_count": 57,
     "metadata": {},
     "output_type": "execute_result"
    }
   ],
   "source": [
    "mse = mean_squared_error(y_test, predictions)\n",
    "print(mse)\n",
    "rmse = np.sqrt(mse)\n",
    "rmse"
   ]
  },
  {
   "cell_type": "markdown",
   "id": "70e5c9ff",
   "metadata": {},
   "source": [
    "Takođe, koristivši Lasso regresor, dobijamo malo bolje rezultate."
   ]
  },
  {
   "cell_type": "markdown",
   "id": "dfa9e5ed",
   "metadata": {},
   "source": [
    "  "
   ]
  },
  {
   "cell_type": "markdown",
   "id": "342af024",
   "metadata": {},
   "source": [
    "  "
   ]
  },
  {
   "cell_type": "markdown",
   "id": "f7dbcf8f",
   "metadata": {},
   "source": [
    "### Polinomijalni regresor"
   ]
  },
  {
   "cell_type": "code",
   "execution_count": 58,
   "id": "80239939",
   "metadata": {},
   "outputs": [],
   "source": [
    "poly = PolynomialFeatures(2)\n",
    "poly_reg_model = LinearRegression()"
   ]
  },
  {
   "cell_type": "code",
   "execution_count": 59,
   "id": "0a759635",
   "metadata": {},
   "outputs": [],
   "source": [
    "poly_features = poly.fit_transform(X_test)"
   ]
  },
  {
   "cell_type": "code",
   "execution_count": 60,
   "id": "636554db",
   "metadata": {},
   "outputs": [
    {
     "data": {
      "text/plain": [
       "LinearRegression()"
      ]
     },
     "execution_count": 60,
     "metadata": {},
     "output_type": "execute_result"
    }
   ],
   "source": [
    "poly_reg_model.fit(poly_features, y_test)"
   ]
  },
  {
   "cell_type": "code",
   "execution_count": 61,
   "id": "bc5b3057",
   "metadata": {},
   "outputs": [
    {
     "data": {
      "text/plain": [
       "array([[43.2898407 ],\n",
       "       [ 9.53886414],\n",
       "       [ 9.53927612],\n",
       "       ...,\n",
       "       [38.74756241],\n",
       "       [37.94254303],\n",
       "       [81.11859131]])"
      ]
     },
     "execution_count": 61,
     "metadata": {},
     "output_type": "execute_result"
    }
   ],
   "source": [
    "predictions = poly_reg_model.predict(poly_features)\n",
    "predictions"
   ]
  },
  {
   "cell_type": "code",
   "execution_count": 62,
   "id": "1d693e89",
   "metadata": {},
   "outputs": [
    {
     "name": "stdout",
     "output_type": "stream",
     "text": [
      "[55.4307068]\n"
     ]
    }
   ],
   "source": [
    "greska = 0\n",
    "for i in range(len(predictions)):\n",
    "    greska += predictions[i] + y_test[i]\n",
    "\n",
    "print(greska/(len(predictions)))"
   ]
  },
  {
   "cell_type": "code",
   "execution_count": 63,
   "id": "d38d11e5",
   "metadata": {
    "scrolled": true
   },
   "outputs": [
    {
     "name": "stdout",
     "output_type": "stream",
     "text": [
      "924.2103137472034\n"
     ]
    },
    {
     "data": {
      "text/plain": [
       "30.400827517473985"
      ]
     },
     "execution_count": 63,
     "metadata": {},
     "output_type": "execute_result"
    }
   ],
   "source": [
    "mse = mean_squared_error(y_test, predictions)\n",
    "print(mse)\n",
    "rmse = np.sqrt(mse)\n",
    "rmse"
   ]
  },
  {
   "cell_type": "markdown",
   "id": "76055bf8",
   "metadata": {},
   "source": [
    "Polinomijalna regresija daje bolje rezultate u odnosu na prethodne regresore."
   ]
  },
  {
   "cell_type": "code",
   "execution_count": 64,
   "id": "cd9d4352",
   "metadata": {},
   "outputs": [
    {
     "data": {
      "image/png": "[encoded data removed]",
      "text/plain": [
       "<Figure size 1440x432 with 1 Axes>"
      ]
     },
     "metadata": {
      "needs_background": "light"
     },
     "output_type": "display_data"
    }
   ],
   "source": [
    "plt.figure(figsize = (20, 6))\n",
    "plt.title(\"Polinomijalna regresija\", size = 16)\n",
    "plt.scatter(y_test, predictions, c = \"blue\")\n",
    "plt.show()"
   ]
  },
  {
   "cell_type": "markdown",
   "id": "01a8b1f1",
   "metadata": {},
   "source": [
    "  "
   ]
  },
  {
   "cell_type": "markdown",
   "id": "1f8a551b",
   "metadata": {},
   "source": [
    "  "
   ]
  },
  {
   "cell_type": "markdown",
   "id": "d502d016",
   "metadata": {},
   "source": [
    "  "
   ]
  },
  {
   "cell_type": "markdown",
   "id": "4413470a",
   "metadata": {},
   "source": [
    "                                                                                        student: Amina Dacić\n",
    "                                                                                        index: 5574/M"
   ]
  }
 ],
 "metadata": {
  "kernelspec": {
   "display_name": "Python 3 (ipykernel)",
   "language": "python",
   "name": "python3"
  },
  "language_info": {
   "codemirror_mode": {
    "name": "ipython",
    "version": 3
   },
   "file_extension": ".py",
   "mimetype": "text/x-python",
   "name": "python",
   "nbconvert_exporter": "python",
   "pygments_lexer": "ipython3",
   "version": "3.9.12"
  }
 },
 "nbformat": 4,
 "nbformat_minor": 5
}
